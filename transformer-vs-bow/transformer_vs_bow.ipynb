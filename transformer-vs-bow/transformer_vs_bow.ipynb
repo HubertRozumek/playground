{
 "cells": [
  {
   "cell_type": "code",
   "execution_count": 92,
   "id": "4f87a3b3-ccf7-4e27-ab9b-93bca89218dc",
   "metadata": {},
   "outputs": [],
   "source": [
    "import math\n",
    "import torch\n",
    "import torch.nn as nn\n",
    "import torch.optim as optim\n",
    "import torch.nn.functional as F\n",
    "from torch.utils.data import DataLoader, Dataset, random_split\n",
    "from torch.nn.utils.rnn import pad_sequence\n",
    "import numpy as np\n",
    "import pandas as pd\n",
    "import matplotlib.pyplot as plt\n",
    "import seaborn as sns\n",
    "from collections import Counter\n",
    "import os \n",
    "import re\n",
    "import string\n",
    "from sklearn.feature_extraction.text import CountVectorizer, TfidfVectorizer\n",
    "from sklearn.linear_model import LogisticRegression\n",
    "from sklearn.metrics import accuracy_score, classification_report, confusion_matrix, roc_auc_score, roc_curve\n",
    "from sklearn.model_selection import train_test_split\n",
    "import nltk\n",
    "from nltk.corpus import stopwords\n",
    "from nltk.tokenize import word_tokenize\n",
    "from nltk.stem import PorterStemmer\n",
    "from datasets import load_dataset\n",
    "\n",
    "os.environ['PYTORCH_ENABLE_MPS_FALLBACK'] = '1'\n",
    "import warnings\n",
    "warnings.filterwarnings('ignore')"
   ]
  },
  {
   "cell_type": "code",
   "execution_count": 2,
   "id": "cbf96271-39b5-48df-bf13-78e8a6e335eb",
   "metadata": {},
   "outputs": [],
   "source": [
    "class TextPreprocessor:\n",
    "    def __init__(self, use_stemming=True, remove_stopwords=True):\n",
    "        self.use_stemming = use_stemming\n",
    "        self.remove_stopwords = remove_stopwords\n",
    "        self.stemmer = PorterStemmer() if use_stemming else None\n",
    "        self.stop_words = set(stopwords.words('english')) if remove_stopwords else set()\n",
    "        \n",
    "    def clean_text(self, text):\n",
    "        text = text.lower()\n",
    "        text = re.sub(r'<[^>]+>', '', text)\n",
    "        text = re.sub(r'http\\S+|www\\S+|https\\S+', '', text, flags=re.MULTILINE)\n",
    "        text = re.sub(r'[^a-zA-Z\\s]', '', text)\n",
    "        text = re.sub(r'\\s+', ' ', text).strip()\n",
    "        \n",
    "        return text\n",
    "    \n",
    "    def tokenize_and_preprocess(self, text):\n",
    "        text = self.clean_text(text)\n",
    "        tokens = word_tokenize(text)\n",
    "        \n",
    "        if self.remove_stopwords:\n",
    "            tokens = [token for token in tokens if token not in self.stop_words]\n",
    "        \n",
    "        if self.use_stemming:\n",
    "            tokens = [self.stemmer.stem(token) for token in tokens]\n",
    "        \n",
    "        return tokens\n",
    "    \n",
    "    def preprocess_texts(self, texts):\n",
    "        return [' '.join(self.tokenize_and_preprocess(text)) for text in texts]"
   ]
  },
  {
   "cell_type": "code",
   "execution_count": 3,
   "id": "7ce27042-04e1-4dbb-9538-c1780775938e",
   "metadata": {},
   "outputs": [],
   "source": [
    "class BagOfWordsModel:\n",
    "    def __init__(self, max_features=10000, use_tfidf=True):\n",
    "        self.max_features = max_features\n",
    "        self.use_tfidf = use_tfidf\n",
    "        \n",
    "        if use_tfidf:\n",
    "            self.vectorizer = TfidfVectorizer(max_features=max_features, stop_words='english')\n",
    "        else:\n",
    "            self.vectorizer = CountVectorizer(max_features=max_features, stop_words='english')\n",
    "        \n",
    "        self.classifier = LogisticRegression(random_state=42, max_iter=1000)\n",
    "        \n",
    "    def fit(self, texts, labels):\n",
    "        X = self.vectorizer.fit_transform(texts)\n",
    "        self.classifier.fit(X, labels)   \n",
    "        return self\n",
    "    \n",
    "    def predict(self, texts):\n",
    "        X = self.vectorizer.transform(texts)\n",
    "        return self.classifier.predict(X)\n",
    "    \n",
    "    def predict_proba(self, texts):\n",
    "        X = self.vectorizer.transform(texts)\n",
    "        return self.classifier.predict_proba(X)"
   ]
  },
  {
   "cell_type": "code",
   "execution_count": 4,
   "id": "f0ddc2e7-c779-4577-a9ef-5d4a33a3ce16",
   "metadata": {},
   "outputs": [],
   "source": [
    "try:\n",
    "    nltk.data.find('tokenizers/punkt')\n",
    "    nltk.data.find('corpora/stopwords')\n",
    "except LookupError:\n",
    "    nltk.download('punkt')\n",
    "    nltk.download('stopwords')"
   ]
  },
  {
   "cell_type": "code",
   "execution_count": 5,
   "id": "56907b27-fd2c-4813-9c36-8039f673105d",
   "metadata": {},
   "outputs": [
    {
     "name": "stdout",
     "output_type": "stream",
     "text": [
      "mps\n"
     ]
    }
   ],
   "source": [
    "device = torch.device('cuda' if torch.cuda.is_available() else 'mps' if torch.backends.mps.is_available() else 'cpu')\n",
    "print(device)"
   ]
  },
  {
   "cell_type": "code",
   "execution_count": 6,
   "id": "67a4e621-990b-4925-858f-cc7bf98c87a5",
   "metadata": {},
   "outputs": [],
   "source": [
    "ds = load_dataset(\"stanfordnlp/imdb\")"
   ]
  },
  {
   "cell_type": "code",
   "execution_count": 7,
   "id": "e584f4ca-4961-4d45-9199-daf5cc3eff4c",
   "metadata": {},
   "outputs": [],
   "source": [
    "X_train = ds['train']['text']\n",
    "X_test = ds['test']['text']\n",
    "\n",
    "y_train = ds['train']['label']\n",
    "y_test = ds['test']['label']"
   ]
  },
  {
   "cell_type": "code",
   "execution_count": 8,
   "id": "a77d28c3-b622-4dec-93c5-716137736af4",
   "metadata": {},
   "outputs": [
    {
     "data": {
      "text/plain": [
       "(25000, 25000)"
      ]
     },
     "execution_count": 8,
     "metadata": {},
     "output_type": "execute_result"
    }
   ],
   "source": [
    "len(X_train), len(X_test)"
   ]
  },
  {
   "cell_type": "code",
   "execution_count": 9,
   "id": "095e024d-756f-4374-bdb5-b0c8bcd0a722",
   "metadata": {},
   "outputs": [
    {
     "data": {
      "text/plain": [
       "(25000, 25000)"
      ]
     },
     "execution_count": 9,
     "metadata": {},
     "output_type": "execute_result"
    }
   ],
   "source": [
    "len(y_train), len(y_test)"
   ]
  },
  {
   "cell_type": "code",
   "execution_count": 10,
   "id": "e6da67a6-38fc-449e-bd3c-fb800a5670b8",
   "metadata": {},
   "outputs": [],
   "source": [
    "train_df = pd.DataFrame({\n",
    "    'text': X_train,\n",
    "    'sentiment': y_train\n",
    "})\n",
    "\n",
    "test_df = pd.DataFrame({\n",
    "    'text': X_test,\n",
    "    'sentiment': y_test\n",
    "})"
   ]
  },
  {
   "cell_type": "code",
   "execution_count": 11,
   "id": "e61cc9fe-5741-4323-8ab6-3f5cff335bae",
   "metadata": {},
   "outputs": [
    {
     "data": {
      "text/plain": [
       "(25000, 2)"
      ]
     },
     "execution_count": 11,
     "metadata": {},
     "output_type": "execute_result"
    }
   ],
   "source": [
    "test_df.shape"
   ]
  },
  {
   "cell_type": "code",
   "execution_count": 12,
   "id": "fb57be08-be3d-42b0-9aee-a5270813d1ff",
   "metadata": {},
   "outputs": [
    {
     "data": {
      "text/plain": [
       "(25000, 2)"
      ]
     },
     "execution_count": 12,
     "metadata": {},
     "output_type": "execute_result"
    }
   ],
   "source": [
    "train_df.shape"
   ]
  },
  {
   "cell_type": "code",
   "execution_count": 13,
   "id": "eaacaaad-2c12-46a0-9cb5-462fbff042ee",
   "metadata": {},
   "outputs": [
    {
     "data": {
      "image/png": "[encoded data removed]",
      "text/plain": [
       "<Figure size 1500x500 with 3 Axes>"
      ]
     },
     "metadata": {},
     "output_type": "display_data"
    }
   ],
   "source": [
    "train_df['text_length'] = train_df['text'].str.len()\n",
    "test_df['text_length'] = test_df['text'].str.len()\n",
    "\n",
    "plt.figure(figsize=(15, 5))\n",
    "\n",
    "plt.subplot(1, 3, 1)\n",
    "plt.hist(train_df['text_length'], bins=50, alpha=0.7, label='Train')\n",
    "plt.hist(test_df['text_length'], bins=50, alpha=0.7, label='Test')\n",
    "plt.xlabel('Text Length (characters)')\n",
    "plt.ylabel('Frequency')\n",
    "plt.title('Distribution of Text Lengths')\n",
    "plt.legend()\n",
    "\n",
    "plt.subplot(1, 3, 2)\n",
    "train_df.boxplot(column='text_length', by='sentiment', ax=plt.gca())\n",
    "plt.title('Text Length by Sentiment (Train)')\n",
    "plt.suptitle('')\n",
    "\n",
    "plt.subplot(1, 3, 3)\n",
    "sentiment_counts = train_df['sentiment'].value_counts()\n",
    "plt.pie(sentiment_counts.values, labels=['Negative', 'Positive'], autopct='%1.1f%%')\n",
    "plt.title('Sentiment Distribution')\n",
    "\n",
    "plt.tight_layout()\n",
    "plt.show()"
   ]
  },
  {
   "cell_type": "code",
   "execution_count": 14,
   "id": "413f7136-07fb-4ad1-8c0a-fb43d5032ad5",
   "metadata": {},
   "outputs": [
    {
     "name": "stdout",
     "output_type": "stream",
     "text": [
      "Original: I rented I AM CURIOUS-YELLOW from my video store because of all the controversy that surrounded it when it was first released in 1967. I also heard that at first it was seized by U.S. customs if it ev...\n",
      "Preprocessed: rent curiousyellow video store controversi surround first releas also heard first seiz us custom ever tri enter countri therefor fan film consid controversi realli see myselfth plot center around youn...\n"
     ]
    }
   ],
   "source": [
    "preprocessor = TextPreprocessor()\n",
    "\n",
    "train_texts_clean = preprocessor.preprocess_texts(X_train)\n",
    "test_texts_clean = preprocessor.preprocess_texts(X_test)\n",
    "\n",
    "print(\"Original:\", X_train[0][:200] + \"...\")\n",
    "print(\"Preprocessed:\", train_texts_clean[0][:200] + \"...\")"
   ]
  },
  {
   "cell_type": "code",
   "execution_count": 15,
   "id": "41f008b0-0551-4091-a325-a6cb666d00a7",
   "metadata": {},
   "outputs": [],
   "source": [
    "bow_model = BagOfWordsModel(max_features=10000, use_tfidf=True)\n",
    "bow_model.fit(train_texts_clean, y_train)\n",
    "\n",
    "bow_train_pred = bow_model.predict(train_texts_clean)\n",
    "bow_test_pred = bow_model.predict(test_texts_clean)\n",
    "bow_test_proba = bow_model.predict_proba(test_texts_clean)"
   ]
  },
  {
   "cell_type": "code",
   "execution_count": 16,
   "id": "1218607a-3af7-46ca-b334-bc42acbd4236",
   "metadata": {},
   "outputs": [
    {
     "data": {
      "text/plain": [
       "0.8722"
      ]
     },
     "execution_count": 16,
     "metadata": {},
     "output_type": "execute_result"
    }
   ],
   "source": [
    "acc = bow_test_pred == y_test\n",
    "sum(acc == True)/len(y_test)"
   ]
  },
  {
   "cell_type": "code",
   "execution_count": 77,
   "id": "d3f695ba-8825-4335-bd2c-d5ea2c31b981",
   "metadata": {},
   "outputs": [],
   "source": [
    "class IMDBDataset(Dataset):\n",
    "    def __init__(self, texts, labels, vocab, max_length=512):\n",
    "        self.texts = texts\n",
    "        self.labels = labels\n",
    "        self.vocab = vocab\n",
    "        self.max_length = max_length\n",
    "        \n",
    "    def __len__(self):\n",
    "        return len(self.texts)\n",
    "    \n",
    "    def __getitem__(self, idx):\n",
    "        text = self.texts[idx]\n",
    "        label = self.labels[idx]\n",
    "        \n",
    "        tokens = text.split()[:self.max_length]\n",
    "        indices = [self.vocab.get(token, self.vocab['<UNK>']) for token in tokens]\n",
    "        \n",
    "        return torch.tensor(indices, dtype=torch.long), torch.tensor(label, dtype=torch.long)"
   ]
  },
  {
   "cell_type": "code",
   "execution_count": 78,
   "id": "d77e4aa7-a5d8-4943-a066-ae42613653a8",
   "metadata": {},
   "outputs": [],
   "source": [
    "def collate_fn(batch):\n",
    "    texts, labels = zip(*batch)\n",
    "    texts = pad_sequence(texts, batch_first=True, padding_value=0)\n",
    "    labels = torch.stack(labels)\n",
    "    return texts, labels"
   ]
  },
  {
   "cell_type": "code",
   "execution_count": 79,
   "id": "5d567460-d8f2-4dd3-88fd-27c19eaeb321",
   "metadata": {},
   "outputs": [],
   "source": [
    "class VocabBuilder:\n",
    "    def __init__(self, min_freq=2):\n",
    "        self.min_freq = min_freq\n",
    "        self.vocab = {'<PAD>': 0, '<UNK>': 1}\n",
    "        self.word_counts = Counter()\n",
    "        \n",
    "    def build_vocab(self, texts):\n",
    "        for text in texts:\n",
    "            self.word_counts.update(text.split())\n",
    "        \n",
    "        idx = 2\n",
    "        for word, count in self.word_counts.items():\n",
    "            if count >= self.min_freq:\n",
    "                self.vocab[word] = idx\n",
    "                idx += 1\n",
    "        \n",
    "        print(f\"Vocabulary size: {len(self.vocab)}\")\n",
    "        return self.vocab"
   ]
  },
  {
   "cell_type": "code",
   "execution_count": 80,
   "id": "ca010b1f-e9fc-475a-a17f-e85ac71dc8a8",
   "metadata": {},
   "outputs": [],
   "source": [
    "class TransformerEncoder(nn.Module):\n",
    "    def __init__(self, d_model, nhead, num_layers, dim_feedforward, dropout=0.1):\n",
    "        super().__init__()\n",
    "        self.d_model = d_model\n",
    "        \n",
    "        encoder_layer = nn.TransformerEncoderLayer(\n",
    "            d_model=d_model,\n",
    "            nhead=nhead,\n",
    "            dim_feedforward=dim_feedforward,\n",
    "            dropout=dropout,\n",
    "            batch_first=True\n",
    "        )\n",
    "        \n",
    "        self.transformer = nn.TransformerEncoder(\n",
    "            encoder_layer,\n",
    "            num_layers=num_layers\n",
    "        )\n",
    "        \n",
    "    def forward(self, x, src_key_padding_mask=None):\n",
    "        return self.transformer(x, src_key_padding_mask=src_key_padding_mask)"
   ]
  },
  {
   "cell_type": "code",
   "execution_count": 82,
   "id": "13b0448c-9091-4903-8c5c-88533a48fcc3",
   "metadata": {},
   "outputs": [],
   "source": [
    "class TransformerClassifier(nn.Module):\n",
    "    def __init__(self, vocab_size, d_model=128, nhead=8, num_layers=2, \n",
    "                 dim_feedforward=256, dropout=0.1, num_classes=2, max_seq_len=512):\n",
    "        super().__init__()\n",
    "        \n",
    "        self.d_model = d_model\n",
    "        self.embedding = nn.Embedding(vocab_size, d_model, padding_idx=0) \n",
    "        self.pos_encoding = nn.Embedding(max_seq_len, d_model)\n",
    "        \n",
    "        encoder_layer = nn.TransformerEncoderLayer(\n",
    "            d_model=d_model,\n",
    "            nhead=nhead,\n",
    "            dim_feedforward=dim_feedforward,\n",
    "            dropout=dropout,\n",
    "            batch_first=True,\n",
    "            activation='gelu' \n",
    "        )\n",
    "        \n",
    "        self.transformer = nn.TransformerEncoder(encoder_layer, num_layers=num_layers)\n",
    "        \n",
    "        self.classifier = nn.Sequential(\n",
    "            nn.LayerNorm(d_model),\n",
    "            nn.Dropout(dropout),\n",
    "            nn.Linear(d_model, num_classes)\n",
    "        )\n",
    "        \n",
    "        self.init_weights()\n",
    "        \n",
    "    def init_weights(self):\n",
    "        for name, param in self.named_parameters():\n",
    "            if 'weight' in name and param.dim() > 1:\n",
    "                nn.init.xavier_uniform_(param)\n",
    "            elif 'bias' in name:\n",
    "                nn.init.zeros_(param)\n",
    "        \n",
    "    def forward(self, x):\n",
    "        batch_size, seq_len = x.size()\n",
    "        \n",
    "        padding_mask = (x == 0)\n",
    "        \n",
    "        positions = torch.arange(seq_len, device=x.device).unsqueeze(0).expand(batch_size, -1)\n",
    "        \n",
    "        x = self.embedding(x) * math.sqrt(self.d_model)\n",
    "        x = x + self.pos_encoding(positions)\n",
    "        \n",
    "        x = self.transformer(x, src_key_padding_mask=padding_mask)\n",
    "        \n",
    "        mask = (~padding_mask).float().unsqueeze(-1)\n",
    "        pooled = (x * mask).sum(dim=1) / (mask.sum(dim=1) + 1e-9) \n",
    "        \n",
    "        return self.classifier(pooled)"
   ]
  },
  {
   "cell_type": "code",
   "execution_count": 83,
   "id": "301b2da2-5af0-47ab-95d1-c906610da892",
   "metadata": {},
   "outputs": [
    {
     "name": "stdout",
     "output_type": "stream",
     "text": [
      "Vocabulary size: 39115\n"
     ]
    }
   ],
   "source": [
    "vocab_builder = VocabBuilder(min_freq=2)\n",
    "vocab = vocab_builder.build_vocab(train_texts_clean)"
   ]
  },
  {
   "cell_type": "code",
   "execution_count": 23,
   "id": "d1de61cd-2574-4820-b2c3-a332aa028210",
   "metadata": {},
   "outputs": [],
   "source": [
    "#print(vocab)"
   ]
  },
  {
   "cell_type": "code",
   "execution_count": 85,
   "id": "62a3b192-f8cc-49b9-8054-e30df5f860a1",
   "metadata": {},
   "outputs": [],
   "source": [
    "train_dataset = IMDBDataset(train_texts_clean, y_train, vocab, max_length=256)\n",
    "test_dataset = IMDBDataset(test_texts_clean, y_test, vocab, max_length=256)"
   ]
  },
  {
   "cell_type": "code",
   "execution_count": 86,
   "id": "5c7346b9-b576-43df-af49-533d8de83262",
   "metadata": {},
   "outputs": [],
   "source": [
    "train_size = int(0.8 * len(train_dataset))\n",
    "val_size = len(train_dataset) - train_size\n",
    "train_subset, val_subset = random_split(train_dataset, [train_size, val_size])"
   ]
  },
  {
   "cell_type": "code",
   "execution_count": 87,
   "id": "cf0e40e9-4683-4d20-a840-2a9463015c8a",
   "metadata": {},
   "outputs": [],
   "source": [
    "batch_size = 32\n",
    "train_loader = DataLoader(train_subset, batch_size=batch_size, shuffle=True, collate_fn=collate_fn)\n",
    "val_loader = DataLoader(val_subset, batch_size=batch_size, shuffle=False, collate_fn=collate_fn)\n",
    "test_loader = DataLoader(test_dataset, batch_size=batch_size, shuffle=False, collate_fn=collate_fn)"
   ]
  },
  {
   "cell_type": "code",
   "execution_count": 98,
   "id": "50d36ad6-2a61-40ba-ac7a-a50b156a9f24",
   "metadata": {},
   "outputs": [],
   "source": [
    "device = 'cpu'\n",
    "\n",
    "model = TransformerClassifier(\n",
    "    vocab_size=len(vocab),\n",
    "    d_model=128,\n",
    "    nhead=8,\n",
    "    num_layers=3,\n",
    "    dim_feedforward=256,\n",
    "    dropout=0.1\n",
    ").to(device)\n",
    "\n",
    "criterion = nn.CrossEntropyLoss()\n",
    "optimizer = optim.Adam(model.parameters(), lr=0.001)\n",
    "scheduler = optim.lr_scheduler.StepLR(optimizer, step_size=3, gamma=0.1)"
   ]
  },
  {
   "cell_type": "code",
   "execution_count": 95,
   "id": "af77d366-08ef-4052-bc7f-81bf47c14334",
   "metadata": {},
   "outputs": [
    {
     "name": "stdout",
     "output_type": "stream",
     "text": [
      "Model parameters: 5,470,210\n"
     ]
    }
   ],
   "source": [
    "print(f\"Model parameters: {sum(p.numel() for p in model.parameters()):,}\")"
   ]
  },
  {
   "cell_type": "code",
   "execution_count": 96,
   "id": "c9ae71c3-f659-4aa3-82cb-9a2d131bb092",
   "metadata": {},
   "outputs": [],
   "source": [
    "def train_transformer(model, train_loader, val_loader, num_epochs=10):\n",
    "    train_losses, val_losses = [], []\n",
    "    train_accuracies, val_accuracies = [], []\n",
    "    \n",
    "    for epoch in range(num_epochs):\n",
    "        model.train()\n",
    "        train_loss = 0\n",
    "        train_correct = 0\n",
    "        train_total = 0\n",
    "        \n",
    "        for batch_idx, (data, target) in enumerate(train_loader):\n",
    "            data, target = data.to(device), target.to(device)\n",
    "            \n",
    "            optimizer.zero_grad()\n",
    "            output = model(data)\n",
    "            loss = criterion(output, target)\n",
    "            loss.backward()\n",
    "            optimizer.step()\n",
    "            \n",
    "            train_loss += loss.item()\n",
    "            pred = output.argmax(dim=1)\n",
    "            train_correct += pred.eq(target).sum().item()\n",
    "            train_total += target.size(0)\n",
    "            \n",
    "            if batch_idx % 50 == 0:\n",
    "                print(f'Epoch {epoch+1}/{num_epochs}, Batch {batch_idx}/{len(train_loader)}, '\n",
    "                      f'Loss: {loss.item():.4f}')\n",
    "        \n",
    "        model.eval()\n",
    "        val_loss = 0\n",
    "        val_correct = 0\n",
    "        val_total = 0\n",
    "        \n",
    "        with torch.no_grad():\n",
    "            for data, target in val_loader:\n",
    "                data, target = data.to(device), target.to(device)\n",
    "                output = model(data)\n",
    "                val_loss += criterion(output, target).item()\n",
    "                pred = output.argmax(dim=1)\n",
    "                val_correct += pred.eq(target).sum().item()\n",
    "                val_total += target.size(0)\n",
    "        \n",
    "        train_acc = 100. * train_correct / train_total\n",
    "        val_acc = 100. * val_correct / val_total\n",
    "        \n",
    "        train_losses.append(train_loss / len(train_loader))\n",
    "        val_losses.append(val_loss / len(val_loader))\n",
    "        train_accuracies.append(train_acc)\n",
    "        val_accuracies.append(val_acc)\n",
    "        \n",
    "        print(f'Epoch {epoch+1}/{num_epochs}:')\n",
    "        print(f'Train Loss: {train_loss/len(train_loader):.4f}, Train Acc: {train_acc:.2f}%')\n",
    "        print(f'Val Loss: {val_loss/len(val_loader):.4f}, Val Acc: {val_acc:.2f}%')\n",
    "        print('-' * 60)\n",
    "        \n",
    "        scheduler.step()\n",
    "    \n",
    "    return train_losses, val_losses, train_accuracies, val_accuracies"
   ]
  },
  {
   "cell_type": "code",
   "execution_count": 99,
   "id": "25a987a6-c90c-4c22-8159-70a35bd189ed",
   "metadata": {},
   "outputs": [
    {
     "name": "stdout",
     "output_type": "stream",
     "text": [
      "Epoch 1/8, Batch 0/625, Loss: 0.8668\n",
      "Epoch 1/8, Batch 50/625, Loss: 0.5362\n",
      "Epoch 1/8, Batch 100/625, Loss: 0.1666\n",
      "Epoch 1/8, Batch 150/625, Loss: 0.3830\n",
      "Epoch 1/8, Batch 200/625, Loss: 0.2847\n",
      "Epoch 1/8, Batch 250/625, Loss: 0.2781\n",
      "Epoch 1/8, Batch 300/625, Loss: 0.3478\n",
      "Epoch 1/8, Batch 350/625, Loss: 0.4255\n",
      "Epoch 1/8, Batch 400/625, Loss: 0.2040\n",
      "Epoch 1/8, Batch 450/625, Loss: 0.4189\n",
      "Epoch 1/8, Batch 500/625, Loss: 0.2073\n",
      "Epoch 1/8, Batch 550/625, Loss: 0.3573\n",
      "Epoch 1/8, Batch 600/625, Loss: 0.1952\n",
      "Epoch 1/8:\n",
      "Train Loss: 0.3785, Train Acc: 83.84%\n",
      "Val Loss: 0.2966, Val Acc: 88.16%\n",
      "------------------------------------------------------------\n",
      "Epoch 2/8, Batch 0/625, Loss: 0.1535\n",
      "Epoch 2/8, Batch 50/625, Loss: 0.1692\n",
      "Epoch 2/8, Batch 100/625, Loss: 0.2231\n",
      "Epoch 2/8, Batch 150/625, Loss: 0.4749\n",
      "Epoch 2/8, Batch 200/625, Loss: 0.0521\n",
      "Epoch 2/8, Batch 250/625, Loss: 0.1844\n",
      "Epoch 2/8, Batch 300/625, Loss: 0.0853\n",
      "Epoch 2/8, Batch 350/625, Loss: 0.1289\n",
      "Epoch 2/8, Batch 400/625, Loss: 0.1207\n",
      "Epoch 2/8, Batch 450/625, Loss: 0.3053\n",
      "Epoch 2/8, Batch 500/625, Loss: 0.2629\n",
      "Epoch 2/8, Batch 550/625, Loss: 0.0853\n",
      "Epoch 2/8, Batch 600/625, Loss: 0.5760\n",
      "Epoch 2/8:\n",
      "Train Loss: 0.1600, Train Acc: 94.19%\n",
      "Val Loss: 0.3586, Val Acc: 86.78%\n",
      "------------------------------------------------------------\n",
      "Epoch 3/8, Batch 0/625, Loss: 0.0278\n",
      "Epoch 3/8, Batch 50/625, Loss: 0.1539\n",
      "Epoch 3/8, Batch 100/625, Loss: 0.1245\n",
      "Epoch 3/8, Batch 150/625, Loss: 0.0776\n",
      "Epoch 3/8, Batch 200/625, Loss: 0.0581\n",
      "Epoch 3/8, Batch 250/625, Loss: 0.0442\n",
      "Epoch 3/8, Batch 300/625, Loss: 0.2368\n",
      "Epoch 3/8, Batch 350/625, Loss: 0.1764\n",
      "Epoch 3/8, Batch 400/625, Loss: 0.0435\n",
      "Epoch 3/8, Batch 450/625, Loss: 0.0599\n",
      "Epoch 3/8, Batch 500/625, Loss: 0.2142\n",
      "Epoch 3/8, Batch 550/625, Loss: 0.1681\n",
      "Epoch 3/8, Batch 600/625, Loss: 0.1056\n",
      "Epoch 3/8:\n",
      "Train Loss: 0.0908, Train Acc: 96.75%\n",
      "Val Loss: 0.3886, Val Acc: 86.30%\n",
      "------------------------------------------------------------\n",
      "Epoch 4/8, Batch 0/625, Loss: 0.0500\n",
      "Epoch 4/8, Batch 50/625, Loss: 0.0956\n",
      "Epoch 4/8, Batch 100/625, Loss: 0.0778\n",
      "Epoch 4/8, Batch 150/625, Loss: 0.0858\n",
      "Epoch 4/8, Batch 200/625, Loss: 0.0934\n",
      "Epoch 4/8, Batch 250/625, Loss: 0.0426\n",
      "Epoch 4/8, Batch 300/625, Loss: 0.0030\n",
      "Epoch 4/8, Batch 350/625, Loss: 0.0138\n",
      "Epoch 4/8, Batch 400/625, Loss: 0.0012\n",
      "Epoch 4/8, Batch 450/625, Loss: 0.0081\n",
      "Epoch 4/8, Batch 500/625, Loss: 0.0062\n",
      "Epoch 4/8, Batch 550/625, Loss: 0.0025\n",
      "Epoch 4/8, Batch 600/625, Loss: 0.0178\n",
      "Epoch 4/8:\n",
      "Train Loss: 0.0360, Train Acc: 98.79%\n",
      "Val Loss: 0.6106, Val Acc: 86.58%\n",
      "------------------------------------------------------------\n",
      "Epoch 5/8, Batch 0/625, Loss: 0.0023\n",
      "Epoch 5/8, Batch 50/625, Loss: 0.0063\n",
      "Epoch 5/8, Batch 100/625, Loss: 0.0303\n",
      "Epoch 5/8, Batch 150/625, Loss: 0.0021\n",
      "Epoch 5/8, Batch 200/625, Loss: 0.0005\n",
      "Epoch 5/8, Batch 250/625, Loss: 0.0892\n",
      "Epoch 5/8, Batch 300/625, Loss: 0.0003\n",
      "Epoch 5/8, Batch 350/625, Loss: 0.0453\n",
      "Epoch 5/8, Batch 400/625, Loss: 0.0054\n",
      "Epoch 5/8, Batch 450/625, Loss: 0.0145\n",
      "Epoch 5/8, Batch 500/625, Loss: 0.0045\n",
      "Epoch 5/8, Batch 550/625, Loss: 0.0035\n",
      "Epoch 5/8, Batch 600/625, Loss: 0.0007\n",
      "Epoch 5/8:\n",
      "Train Loss: 0.0161, Train Acc: 99.37%\n",
      "Val Loss: 0.8211, Val Acc: 86.44%\n",
      "------------------------------------------------------------\n",
      "Epoch 6/8, Batch 0/625, Loss: 0.0272\n",
      "Epoch 6/8, Batch 50/625, Loss: 0.0007\n",
      "Epoch 6/8, Batch 100/625, Loss: 0.0002\n",
      "Epoch 6/8, Batch 150/625, Loss: 0.0007\n",
      "Epoch 6/8, Batch 200/625, Loss: 0.0004\n",
      "Epoch 6/8, Batch 250/625, Loss: 0.0002\n",
      "Epoch 6/8, Batch 300/625, Loss: 0.0008\n",
      "Epoch 6/8, Batch 350/625, Loss: 0.0001\n",
      "Epoch 6/8, Batch 400/625, Loss: 0.0019\n",
      "Epoch 6/8, Batch 450/625, Loss: 0.0003\n",
      "Epoch 6/8, Batch 500/625, Loss: 0.0151\n",
      "Epoch 6/8, Batch 550/625, Loss: 0.0005\n",
      "Epoch 6/8, Batch 600/625, Loss: 0.0006\n",
      "Epoch 6/8:\n",
      "Train Loss: 0.0091, Train Acc: 99.69%\n",
      "Val Loss: 0.9135, Val Acc: 86.42%\n",
      "------------------------------------------------------------\n",
      "Epoch 7/8, Batch 0/625, Loss: 0.0003\n",
      "Epoch 7/8, Batch 50/625, Loss: 0.0005\n",
      "Epoch 7/8, Batch 100/625, Loss: 0.0018\n",
      "Epoch 7/8, Batch 150/625, Loss: 0.0002\n",
      "Epoch 7/8, Batch 200/625, Loss: 0.0003\n",
      "Epoch 7/8, Batch 250/625, Loss: 0.0002\n",
      "Epoch 7/8, Batch 300/625, Loss: 0.0006\n",
      "Epoch 7/8, Batch 350/625, Loss: 0.0002\n",
      "Epoch 7/8, Batch 400/625, Loss: 0.0085\n",
      "Epoch 7/8, Batch 450/625, Loss: 0.0002\n",
      "Epoch 7/8, Batch 500/625, Loss: 0.0010\n",
      "Epoch 7/8, Batch 550/625, Loss: 0.0107\n",
      "Epoch 7/8, Batch 600/625, Loss: 0.0001\n",
      "Epoch 7/8:\n",
      "Train Loss: 0.0059, Train Acc: 99.79%\n",
      "Val Loss: 0.9415, Val Acc: 86.34%\n",
      "------------------------------------------------------------\n",
      "Epoch 8/8, Batch 0/625, Loss: 0.0004\n",
      "Epoch 8/8, Batch 50/625, Loss: 0.0040\n",
      "Epoch 8/8, Batch 100/625, Loss: 0.0002\n",
      "Epoch 8/8, Batch 150/625, Loss: 0.0006\n",
      "Epoch 8/8, Batch 200/625, Loss: 0.0037\n",
      "Epoch 8/8, Batch 250/625, Loss: 0.0001\n",
      "Epoch 8/8, Batch 300/625, Loss: 0.0014\n",
      "Epoch 8/8, Batch 350/625, Loss: 0.0003\n",
      "Epoch 8/8, Batch 400/625, Loss: 0.0088\n",
      "Epoch 8/8, Batch 450/625, Loss: 0.0001\n",
      "Epoch 8/8, Batch 500/625, Loss: 0.0240\n",
      "Epoch 8/8, Batch 550/625, Loss: 0.0001\n",
      "Epoch 8/8, Batch 600/625, Loss: 0.0148\n",
      "Epoch 8/8:\n",
      "Train Loss: 0.0052, Train Acc: 99.83%\n",
      "Val Loss: 0.9653, Val Acc: 86.36%\n",
      "------------------------------------------------------------\n"
     ]
    }
   ],
   "source": [
    "train_losses, val_losses, train_accuracies, val_accuracies = train_transformer(\n",
    "    model, train_loader, val_loader, num_epochs=8\n",
    ")"
   ]
  },
  {
   "cell_type": "code",
   "execution_count": 100,
   "id": "4a2eac34-1434-448e-a05f-8402dea0869c",
   "metadata": {},
   "outputs": [
    {
     "data": {
      "image/png": "[encoded data removed]",
      "text/plain": [
       "<Figure size 1500x500 with 2 Axes>"
      ]
     },
     "metadata": {},
     "output_type": "display_data"
    }
   ],
   "source": [
    "plt.figure(figsize=(15, 5))\n",
    "\n",
    "plt.subplot(1, 2, 1)\n",
    "plt.plot(train_losses, label='Training Loss')\n",
    "plt.plot(val_losses, label='Validation Loss')\n",
    "plt.xlabel('Epoch')\n",
    "plt.ylabel('Loss')\n",
    "plt.title('Training and Validation Loss')\n",
    "plt.legend()\n",
    "\n",
    "plt.subplot(1, 2, 2)\n",
    "plt.plot(train_accuracies, label='Training Accuracy')\n",
    "plt.plot(val_accuracies, label='Validation Accuracy')\n",
    "plt.xlabel('Epoch')\n",
    "plt.ylabel('Accuracy (%)')\n",
    "plt.title('Training and Validation Accuracy')\n",
    "plt.legend()\n",
    "\n",
    "plt.tight_layout()\n",
    "plt.show()"
   ]
  },
  {
   "cell_type": "code",
   "execution_count": 101,
   "id": "1639cf75-0d30-4719-a14b-e9e668375ef9",
   "metadata": {},
   "outputs": [],
   "source": [
    "def evaluate_transformer(model, test_loader):\n",
    "    model.eval()\n",
    "    predictions = []\n",
    "    probabilities = []\n",
    "    true_labels = []\n",
    "    \n",
    "    with torch.no_grad():\n",
    "        for data, target in test_loader:\n",
    "            data, target = data.to(device), target.to(device)\n",
    "            output = model(data)\n",
    "            prob = F.softmax(output, dim=1)\n",
    "            pred = output.argmax(dim=1)\n",
    "            \n",
    "            predictions.extend(pred.cpu().numpy())\n",
    "            probabilities.extend(prob.cpu().numpy())\n",
    "            true_labels.extend(target.cpu().numpy())\n",
    "    \n",
    "    return np.array(predictions), np.array(probabilities), np.array(true_labels)\n",
    "\n",
    "transformer_pred, transformer_proba, true_test_labels = evaluate_transformer(model, test_loader)"
   ]
  },
  {
   "cell_type": "code",
   "execution_count": 106,
   "id": "8d24a0fe-276d-47d6-ace7-148983fa841b",
   "metadata": {},
   "outputs": [],
   "source": [
    "def calculate_metrics(y_true, y_pred, y_proba, model_name):\n",
    "    accuracy = accuracy_score(y_true, y_pred)\n",
    "    auc = roc_auc_score(y_true, y_proba[:, 1])\n",
    "    \n",
    "    print(f\"\\n{model_name} Results:\")\n",
    "    print(f\"Accuracy: {accuracy:.4f}\")\n",
    "    print(f\"AUC-ROC: {auc:.4f}\")\n",
    "    print(\"\\nClassification Report:\")\n",
    "    print(classification_report(y_true, y_pred, target_names=['Negative', 'Positive']))\n",
    "    \n",
    "    return accuracy, auc"
   ]
  },
  {
   "cell_type": "code",
   "execution_count": 103,
   "id": "542a0e5d-ea87-47aa-8710-0abc2e830288",
   "metadata": {},
   "outputs": [
    {
     "name": "stdout",
     "output_type": "stream",
     "text": [
      "\n",
      "Bag of Words Results:\n",
      "Accuracy: 0.8722\n",
      "AUC-ROC: 0.9462\n",
      "\n",
      "Classification Report:\n",
      "              precision    recall  f1-score   support\n",
      "\n",
      "    Negative       0.87      0.87      0.87     12500\n",
      "    Positive       0.87      0.87      0.87     12500\n",
      "\n",
      "    accuracy                           0.87     25000\n",
      "   macro avg       0.87      0.87      0.87     25000\n",
      "weighted avg       0.87      0.87      0.87     25000\n",
      "\n",
      "\n",
      "Transformer Results:\n",
      "Accuracy: 0.8337\n",
      "AUC-ROC: 0.9035\n",
      "\n",
      "Classification Report:\n",
      "              precision    recall  f1-score   support\n",
      "\n",
      "    Negative       0.82      0.85      0.84     12500\n",
      "    Positive       0.85      0.82      0.83     12500\n",
      "\n",
      "    accuracy                           0.83     25000\n",
      "   macro avg       0.83      0.83      0.83     25000\n",
      "weighted avg       0.83      0.83      0.83     25000\n",
      "\n"
     ]
    }
   ],
   "source": [
    "bow_accuracy, bow_auc = calculate_metrics(\n",
    "    y_test, bow_test_pred, bow_test_proba, \"Bag of Words\"\n",
    ")\n",
    "\n",
    "transformer_accuracy, transformer_auc = calculate_metrics(\n",
    "    true_test_labels, transformer_pred, transformer_proba, \"Transformer\"\n",
    ")"
   ]
  },
  {
   "cell_type": "code",
   "execution_count": 104,
   "id": "fab7d351-44e6-446e-a439-0a6d5b94b98f",
   "metadata": {},
   "outputs": [
    {
     "name": "stdout",
     "output_type": "stream",
     "text": [
      "       Model  Accuracy  AUC-ROC\n",
      "Bag of Words   0.87220 0.946216\n",
      " Transformer   0.83368 0.903476\n"
     ]
    }
   ],
   "source": [
    "results_df = pd.DataFrame({\n",
    "    'Model': ['Bag of Words', 'Transformer'],\n",
    "    'Accuracy': [bow_accuracy, transformer_accuracy],\n",
    "    'AUC-ROC': [bow_auc, transformer_auc]\n",
    "})\n",
    "\n",
    "print(results_df.to_string(index=False))"
   ]
  },
  {
   "cell_type": "code",
   "execution_count": 138,
   "id": "6b536e69-84f2-4e3f-8fae-35164a73f8ef",
   "metadata": {},
   "outputs": [
    {
     "data": {
      "text/plain": [
       "<Axes: >"
      ]
     },
     "execution_count": 138,
     "metadata": {},
     "output_type": "execute_result"
    },
    {
     "data": {
      "image/png": "[encoded data removed]",
      "text/plain": [
       "<Figure size 640x480 with 2 Axes>"
      ]
     },
     "metadata": {},
     "output_type": "display_data"
    }
   ],
   "source": [
    "from sklearn.metrics import confusion_matrix\n",
    "cm_bow = confusion_matrix(y_test, bow_test_pred)\n",
    "cm_transformer = confusion_matrix(true_test_labels, transformer_pred)\n",
    "\n",
    "sns.heatmap(cm_bow, annot=True, fmt='d', cmap='Blues')"
   ]
  },
  {
   "cell_type": "code",
   "execution_count": 137,
   "id": "897669c6-692d-45fc-b526-5fa15a3c58c3",
   "metadata": {},
   "outputs": [
    {
     "data": {
      "text/plain": [
       "<Axes: >"
      ]
     },
     "execution_count": 137,
     "metadata": {},
     "output_type": "execute_result"
    },
    {
     "data": {
      "image/png": "[encoded data removed]",
      "text/plain": [
       "<Figure size 640x480 with 2 Axes>"
      ]
     },
     "metadata": {},
     "output_type": "display_data"
    }
   ],
   "source": [
    "sns.heatmap(cm_transformer, annot=True, fmt='d', cmap='Reds')"
   ]
  },
  {
   "cell_type": "code",
   "execution_count": 145,
   "id": "c27894c9-8991-4a7d-914e-ba022c41f3bb",
   "metadata": {},
   "outputs": [
    {
     "data": {
      "text/plain": [
       "10000"
      ]
     },
     "execution_count": 145,
     "metadata": {},
     "output_type": "execute_result"
    }
   ],
   "source": [
    "len(bow_model.vectorizer.vocabulary_)"
   ]
  },
  {
   "cell_type": "code",
   "execution_count": 146,
   "id": "b3fbe448-394b-4653-a27b-592f9b415256",
   "metadata": {},
   "outputs": [
    {
     "data": {
      "text/plain": [
       "5470210"
      ]
     },
     "execution_count": 146,
     "metadata": {},
     "output_type": "execute_result"
    }
   ],
   "source": [
    "sum(p.numel() for p in model.parameters())"
   ]
  },
  {
   "cell_type": "code",
   "execution_count": 148,
   "id": "f26a8144-c3c4-4e91-885d-a4684e64c196",
   "metadata": {},
   "outputs": [
    {
     "name": "stdout",
     "output_type": "stream",
     "text": [
      "great: 6.5539\n",
      "excel: 6.2821\n",
      "best: 4.8073\n",
      "perfect: 4.7792\n",
      "enjoy: 4.7076\n",
      "favorit: 4.7048\n",
      "love: 4.5559\n",
      "beauti: 3.8688\n",
      "amaz: 3.6458\n",
      "definit: 3.5661\n",
      " - - - \n",
      "worst: -8.8996\n",
      "wast: -7.6651\n",
      "aw: -6.7863\n",
      "bad: -6.6329\n",
      "bore: -5.9427\n",
      "poor: -5.3440\n",
      "noth: -4.9961\n",
      "wors: -4.8866\n",
      "disappoint: -4.7224\n",
      "terribl: -4.5872\n"
     ]
    }
   ],
   "source": [
    "feature_names = bow_model.vectorizer.get_feature_names_out()\n",
    "coefficients = bow_model.classifier.coef_[0]\n",
    "feature_importance = list(zip(feature_names, coefficients))\n",
    "feature_importance.sort(key=lambda x: abs(x[1]), reverse=True)\n",
    "\n",
    "positive_features = [f for f in feature_importance if f[1] > 0][:10]\n",
    "for feature, coef in positive_features:\n",
    "    print(f\"{feature}: {coef:.4f}\")\n",
    "print(\" - - - \")\n",
    "negative_features = [f for f in feature_importance if f[1] < 0][:10]\n",
    "for feature, coef in negative_features:\n",
    "    print(f\"{feature}: {coef:.4f}\")"
   ]
  },
  {
   "cell_type": "code",
   "execution_count": 157,
   "id": "aa681272-27cd-41c9-99ae-2df58f8aaa3c",
   "metadata": {},
   "outputs": [
    {
     "name": "stdout",
     "output_type": "stream",
     "text": [
      "bow: 3.7 MB\n",
      " t: 20.9 MB\n",
      " ratio 5.7x\n"
     ]
    }
   ],
   "source": [
    "import sys\n",
    "bow_memory = sys.getsizeof(bow_model.vectorizer.vocabulary_) / 1024 / 1024  \n",
    "transformer_memory = sum(p.numel() * 4 for p in model.parameters()) / 1024 / 1024\n",
    "\n",
    "print(f\"bow: {bow_memory:.1f} MB\")\n",
    "print(f\" t: {transformer_memory:.1f} MB\")\n",
    "print(f\" ratio {transformer_memory/bow_memory:.1f}x\")"
   ]
  },
  {
   "cell_type": "code",
   "execution_count": null,
   "id": "f8fe6399-b3b6-400e-a209-186aaa354514",
   "metadata": {},
   "outputs": [],
   "source": []
  }
 ],
 "metadata": {
  "kernelspec": {
   "display_name": "Python 3 (ipykernel)",
   "language": "python",
   "name": "python3"
  },
  "language_info": {
   "codemirror_mode": {
    "name": "ipython",
    "version": 3
   },
   "file_extension": ".py",
   "mimetype": "text/x-python",
   "name": "python",
   "nbconvert_exporter": "python",
   "pygments_lexer": "ipython3",
   "version": "3.11.5"
  }
 },
 "nbformat": 4,
 "nbformat_minor": 5
}
